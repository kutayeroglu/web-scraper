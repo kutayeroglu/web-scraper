{
 "cells": [
  {
   "cell_type": "code",
   "execution_count": 1,
   "id": "55bb671f",
   "metadata": {},
   "outputs": [],
   "source": [
    "import xlsxwriter\n",
    "from selenium import webdriver\n",
    "from selenium.webdriver.common.keys import Keys\n",
    "from webdriver_manager.chrome import ChromeDriverManager"
   ]
  },
  {
   "cell_type": "code",
   "execution_count": 2,
   "id": "cbb4eca7",
   "metadata": {
    "scrolled": true
   },
   "outputs": [
    {
     "name": "stderr",
     "output_type": "stream",
     "text": [
      "\n",
      "\n",
      "====== WebDriver manager ======\n",
      "Current google-chrome version is 98.0.4758\n",
      "Get LATEST chromedriver version for 98.0.4758 google-chrome\n",
      "Driver [/home/keroglu/.wdm/drivers/chromedriver/linux64/98.0.4758.102/chromedriver] found in cache\n",
      "/tmp/ipykernel_203098/388824172.py:2: DeprecationWarning: executable_path has been deprecated, please pass in a Service object\n",
      "  driver = webdriver.Chrome(ChromeDriverManager().install())\n"
     ]
    }
   ],
   "source": [
    "# Install the driver\n",
    "driver = webdriver.Chrome(ChromeDriverManager().install())\n",
    "\n",
    "# Read bird names from text file\n",
    "bird_data_file = open(\"ebird_istanbul.txt\", \"r\")\n",
    "bird_data = bird_data_file.read()\n",
    "bird_names = bird_data.split(\"\\n\")\n",
    "\n",
    "# Link for the site\n",
    "wikipedia_link = \"https://www.wikipedia.org/\""
   ]
  },
  {
   "cell_type": "code",
   "execution_count": 3,
   "id": "d3442b51",
   "metadata": {},
   "outputs": [
    {
     "data": {
      "text/plain": [
       "0"
      ]
     },
     "execution_count": 3,
     "metadata": {},
     "output_type": "execute_result"
    }
   ],
   "source": [
    "workbook = xlsxwriter.Workbook('bird_list_wiki.xlsx')\n",
    "worksheet = workbook.add_worksheet()\n",
    "worksheet.write('A1', 'bird_name')\n",
    "worksheet.write('B1', 'wiki_link')"
   ]
  },
  {
   "cell_type": "code",
   "execution_count": 4,
   "id": "3b14e295",
   "metadata": {
    "scrolled": true
   },
   "outputs": [
    {
     "name": "stderr",
     "output_type": "stream",
     "text": [
      "/tmp/ipykernel_269330/4051917810.py:5: DeprecationWarning: find_element_by_* commands are deprecated. Please use find_element() instead\n",
      "  search_box = driver.find_element_by_id('searchInput')\n"
     ]
    }
   ],
   "source": [
    "row_num = 2\n",
    "\n",
    "for bird_name in bird_names: \n",
    "    driver.get(wikipedia_link)\n",
    "    search_box = driver.find_element_by_id('searchInput')\n",
    "    search_box.send_keys(bird_name)\n",
    "    search_box.send_keys(Keys.ENTER)\n",
    "    worksheet.write(\"A\" + str(row_num), bird_name)\n",
    "    worksheet.write(\"B\" + str(row_num), driver.current_url)\n",
    "    row_num += 1\n",
    "\n"
   ]
  },
  {
   "cell_type": "code",
   "execution_count": 5,
   "id": "9922615d",
   "metadata": {},
   "outputs": [],
   "source": [
    "workbook.close()\n",
    "driver.quit()"
   ]
  }
 ],
 "metadata": {
  "kernelspec": {
   "display_name": "local-venv",
   "language": "python",
   "name": "local-venv"
  },
  "language_info": {
   "codemirror_mode": {
    "name": "ipython",
    "version": 3
   },
   "file_extension": ".py",
   "mimetype": "text/x-python",
   "name": "python",
   "nbconvert_exporter": "python",
   "pygments_lexer": "ipython3",
   "version": "3.8.8"
  }
 },
 "nbformat": 4,
 "nbformat_minor": 5
}
