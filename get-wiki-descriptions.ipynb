{
 "cells": [
  {
   "cell_type": "code",
   "execution_count": 1,
   "id": "ed130e35",
   "metadata": {},
   "outputs": [],
   "source": [
    "import urllib\n",
    "import requests\n",
    "import regex as re\n",
    "import xlsxwriter\n",
    "from bs4 import BeautifulSoup"
   ]
  },
  {
   "cell_type": "code",
   "execution_count": 2,
   "id": "82aa3947",
   "metadata": {},
   "outputs": [],
   "source": [
    "# Get bird names from pre-existing text file\n",
    "bird_data_file = open(\"ebird_istanbul.txt\", \"r\")\n",
    "bird_data = bird_data_file.read()\n",
    "bird_names = bird_data.split(\"\\n\")"
   ]
  },
  {
   "cell_type": "code",
   "execution_count": 3,
   "id": "dcea0382",
   "metadata": {},
   "outputs": [
    {
     "data": {
      "text/plain": [
       "0"
      ]
     },
     "execution_count": 3,
     "metadata": {},
     "output_type": "execute_result"
    }
   ],
   "source": [
    "# Open worksheet and initialize column names\n",
    "workbook = xlsxwriter.Workbook('bird_wiki_descriptions.xlsx')\n",
    "worksheet = workbook.add_worksheet()\n",
    "worksheet.write('A1', 'bird_name')\n",
    "worksheet.write('B1', 'wiki_desc')"
   ]
  },
  {
   "cell_type": "code",
   "execution_count": 4,
   "id": "e03ffbf3",
   "metadata": {},
   "outputs": [],
   "source": [
    "special_cases = [\"Delicate Prinia\", \"Ruff\", \"Desert Finch\", \"Mallard\", \"Turkestan Short-toed Lark\", \"Short-toed Snake-Eagle\",\n",
    "                 \"Gray-headed Swamphen\", \"Yelkouan Shearwater\", \"Great Gray Shrike\", \"White-tailed Eagle\", \"Mediterranean Short-toed Lark\",\n",
    "                \"Greater Scaup\", \"Tundra Swan\", \"Sociable Lapwing\", \"Gray-necked Bunting\", \"Arabian Lark\", \"Gray-headed Lapwing\",\n",
    "                \"Brant\"]\n",
    "\n",
    "special_cases_count = [\"desert finch\", \"mallard\", \"yelkouan shearwater\", \"White-tailed Eagle\",\"Greater Scaup\", \"tundra swan\"\n",
    "                      \"sociable lapwing\", \"gray-headed lapwing\"]"
   ]
  },
  {
   "cell_type": "code",
   "execution_count": null,
   "id": "c5ae0766",
   "metadata": {},
   "outputs": [],
   "source": [
    "def get_wiki_description(title):\n",
    "    page_url =  'https://en.wikipedia.org/wiki/' + title\n",
    "    # Query the website and return the html to the variable 'page'\n",
    "    page = requests.get(page_url).text\n",
    "    # Parse the html using beautiful soup and store in variable 'soup'\n",
    "    soup = BeautifulSoup(page, 'html.parser')\n",
    "    for p in soup.find_all('p'):\n",
    "        #print(\"BEGINNING\")\n",
    "        print(p)\n",
    "        if len(p.get_text()) > 100:\n",
    "            return p.get_text()"
   ]
  },
  {
   "cell_type": "code",
   "execution_count": null,
   "id": "9dbf2dee",
   "metadata": {},
   "outputs": [],
   "source": [
    "# Out of 494 entries 18 were faulty. Since pages for those entries are \n",
    "# quite irregular we are going to extract them with different methods\n",
    "def get_wiki_special_description(title):\n",
    "    title = title.lower()\n",
    "    # Ones we can obtain with <p>'s specific position\n",
    "    if title in special_cases_count:\n",
    "        return get_desc_with_count(title, 3)\n",
    "    if title == \"Ruff\":\n",
    "        title += \" (bird)\"\n",
    "    get_wiki_description(title)"
   ]
  },
  {
   "cell_type": "code",
   "execution_count": null,
   "id": "a21dbd1b",
   "metadata": {},
   "outputs": [],
   "source": [
    "# Get the 'count'th <p> \n",
    "def get_desc_with_count(title, count):\n",
    "    page_url =  'https://en.wikipedia.org/wiki/' + title\n",
    "    # Query the website and return the html to the variable 'page'\n",
    "    page = requests.get(page_url).text\n",
    "    # Parse the html using beautiful soup and store in variable 'soup'\n",
    "    soup = BeautifulSoup(page, 'html.parser')\n",
    "    counter = 0\n",
    "    for p in soup.find_all('p'):\n",
    "        counter += 1\n",
    "        if counter == 3:\n",
    "            return p.get_text()\n",
    "    return"
   ]
  },
  {
   "cell_type": "code",
   "execution_count": null,
   "id": "0abec2d5",
   "metadata": {},
   "outputs": [],
   "source": [
    "row_num = 2\n",
    "for bird_name in bird_names:\n",
    "    # Stopping before main wikipedia page also gets scraped\n",
    "    if row_num == len(bird_names) + 2:\n",
    "        break\n",
    "    worksheet.write(\"A\" + str(row_num), bird_name)\n",
    "    if bird_name in special_cases:\n",
    "        worksheet.write(\"B\" + str(row_num), get_wiki_special_description(bird_name))\n",
    "    else:\n",
    "        worksheet.write(\"B\" + str(row_num), get_wiki_description(bird_name))\n",
    "    row_num += 1"
   ]
  },
  {
   "cell_type": "code",
   "execution_count": null,
   "id": "9c313049",
   "metadata": {},
   "outputs": [],
   "source": [
    "workbook.close()"
   ]
  }
 ],
 "metadata": {
  "kernelspec": {
   "display_name": "scrapenv",
   "language": "python",
   "name": "scrapenv"
  },
  "language_info": {
   "codemirror_mode": {
    "name": "ipython",
    "version": 3
   },
   "file_extension": ".py",
   "mimetype": "text/x-python",
   "name": "python",
   "nbconvert_exporter": "python",
   "pygments_lexer": "ipython3",
   "version": "3.8.8"
  }
 },
 "nbformat": 4,
 "nbformat_minor": 5
}
