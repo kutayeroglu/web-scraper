{
 "cells": [
  {
   "cell_type": "code",
   "execution_count": 1,
   "id": "9b2313f5",
   "metadata": {},
   "outputs": [],
   "source": [
    "from bs4 import BeautifulSoup\n",
    "import urllib\n",
    "import regex as re\n",
    "import requests"
   ]
  },
  {
   "cell_type": "code",
   "execution_count": 2,
   "id": "7c8acf84",
   "metadata": {},
   "outputs": [],
   "source": [
    "bird_data_file = open(\"ebird_istanbul.txt\", \"r\")\n",
    "bird_data = bird_data_file.read()\n",
    "bird_names = bird_data.split(\"\\n\")"
   ]
  },
  {
   "cell_type": "code",
   "execution_count": 3,
   "id": "1f95ac82",
   "metadata": {},
   "outputs": [],
   "source": [
    "# Helper function\n",
    "def adjust_bird_name(bird_name):\n",
    "    if \" \" in bird_name:\n",
    "        bird_name = bird_name.replace(\" \", \"\")\n",
    "    if \"'\" in bird_name:\n",
    "        bird_name = bird_name.replace(\"'\", \"\")\n",
    "    if \"-\" in bird_name:\n",
    "        bird_name = bird_name.replace(\"-\", \"\")\n",
    "    return bird_name"
   ]
  },
  {
   "cell_type": "code",
   "execution_count": 4,
   "id": "d0167883",
   "metadata": {},
   "outputs": [],
   "source": [
    "def get_main_wiki_image(title):\n",
    "    page_url =  'https://en.wikipedia.org/wiki/' + title\n",
    "    # query the website and return the html to the variable 'page'\n",
    "    page = requests.get(page_url).text\n",
    "    # parse the html using beautiful soup and store in variable 'soup'\n",
    "    soup = BeautifulSoup(page, 'html.parser')\n",
    "    for raw_img in soup.find_all('img'):\n",
    "        link = raw_img.get('src')\n",
    "        # We exlcude any .svg images, as they are not our target\n",
    "        if re.search('wikipedia/.*/thumb/', link) and not re.search('.svg', link):\n",
    "            img_url = \"http:\"+ link\n",
    "            # Once the first image has been found, we break out of the loop and search the next page\n",
    "            break\n",
    "    return img_url"
   ]
  },
  {
   "cell_type": "code",
   "execution_count": 6,
   "id": "3cc750fb",
   "metadata": {
    "scrolled": true
   },
   "outputs": [
    {
     "name": "stdout",
     "output_type": "stream",
     "text": [
      "Delicate Prinia\n",
      "Ruff\n",
      "Turkestan Short-toed Lark\n",
      "Short-toed Snake-Eagle\n",
      "Gray-headed Swamphen\n",
      "Great Gray Shrike\n",
      "Mediterranean Short-toed Lark\n",
      "Gray-necked Bunting\n",
      "Arabian Lark\n",
      "Brant\n"
     ]
    }
   ],
   "source": [
    "# As errors are likely we want to keep track of the birds we couldn't get an image of \n",
    "error_encountered = []\n",
    "for bird_name in bird_names:\n",
    "    try:\n",
    "        img_url = get_main_wiki_image(bird_name)\n",
    "        urllib.request.urlretrieve(img_url, adjust_bird_name(bird_name) + \".jpg\")\n",
    "    except:\n",
    "        error_encountered.append(bird_name)\n",
    "        print(bird_name)"
   ]
  },
  {
   "cell_type": "code",
   "execution_count": null,
   "id": "902cafb3",
   "metadata": {},
   "outputs": [],
   "source": []
  }
 ],
 "metadata": {
  "kernelspec": {
   "display_name": "scrapenv",
   "language": "python",
   "name": "scrapenv"
  },
  "language_info": {
   "codemirror_mode": {
    "name": "ipython",
    "version": 3
   },
   "file_extension": ".py",
   "mimetype": "text/x-python",
   "name": "python",
   "nbconvert_exporter": "python",
   "pygments_lexer": "ipython3",
   "version": "3.8.8"
  }
 },
 "nbformat": 4,
 "nbformat_minor": 5
}
